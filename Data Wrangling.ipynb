{
 "cells": [
  {
   "cell_type": "markdown",
   "metadata": {},
   "source": [
    "# Data Wrangling With MongoDB Project"
   ]
  },
  {
   "cell_type": "markdown",
   "metadata": {},
   "source": [
    "**Project 2 from Udacity Data Analyst Nano Degree program              by Jay Zmudka**"
   ]
  },
  {
   "cell_type": "markdown",
   "metadata": {},
   "source": [
    "---"
   ]
  },
  {
   "cell_type": "code",
   "execution_count": 53,
   "metadata": {},
   "outputs": [],
   "source": [
    "#!/usr/bin/env python\n",
    "# -*- coding: utf-8 -*-\n",
    "\n",
    "import xml.etree.ElementTree as ET\n",
    "from pprint import pprint as pp\n",
    "import re\n",
    "import codecs\n",
    "import json\n",
    "from zipfile import ZipFile\n"
   ]
  },
  {
   "cell_type": "code",
   "execution_count": 85,
   "metadata": {},
   "outputs": [],
   "source": [
    "samplefile = 'sample.osm'\n",
    "zipfile = 'openstreetmapdata.zip'\n",
    "filename = 'openstreetmapdata'\n",
    "outfile = 'openstreetmapdata.json'\n",
    "\n",
    "# uncomment the data you are using smaller sample file or larger zipped file\n",
    "usefile = samplefile\n",
    "##usefile = openzipfile(zipfile, filename)\n",
    "\n",
    "CREATED = [ 'version', 'changeset', 'timestamp', 'user', 'uid']\n",
    "ROOTTAGS = [ 'node', 'way', 'relation']\n",
    "\n",
    "problemchars = re.compile(r'[=\\+/&<>;\\'\"\\?%#$@\\,\\. \\t\\r\\n]')\n",
    "\n",
    "# extracts osm file from zip archive\n",
    "def openzipfile(zipf, filename):\n",
    "    with ZipFile(zipf) as osmzip:\n",
    "        xfile = osmzip.open(filename)\n",
    "        return xfile\n",
    "\n",
    "        \n"
   ]
  },
  {
   "cell_type": "code",
   "execution_count": 86,
   "metadata": {},
   "outputs": [],
   "source": [
    "def shape_element(element):\n",
    "    node = {}\n",
    "    if element.tag in ROOTTAGS:\n",
    "        node['type'] = element.tag\n",
    "        node['id'] = element.attrib['id']\n",
    "        if 'visible' in element.attrib:\n",
    "            node['visible'] = element.attrib['visible']\n",
    "        node['created'] = {}\n",
    "        for x in CREATED:\n",
    "            node['created'][x] = element.attrib[x]\n",
    "        if 'lat' in element.attrib:\n",
    "            node['pos'] = [float(element.attrib['lat']), float(element.attrib['lon'])]\n",
    "        if len(element.findall('tag')) > 0:\n",
    "            node['address'] = {}\n",
    "            for tag in element.findall('tag'):\n",
    "#                   print tag.attrib\n",
    "                \n",
    "                if problemchars.search(tag.attrib['k']):\n",
    "                    pass\n",
    "                elif tag.attrib['k'] == 'type':\n",
    "                    node['relation_type'] = tag.attrib['v']\n",
    "                elif 'addr:' in tag.attrib['k']:\n",
    "                    if len(tag.attrib['k'].split(':')) > 2:\n",
    "                        pass\n",
    "                    else:\n",
    "                        addc = tag.attrib['k'].split(':')[1]\n",
    "                        node['address'][addc] = tag.attrib['v']\n",
    "                else:\n",
    "                    node[tag.attrib['k']] = tag.attrib['v']\n",
    "        if len(element.findall('nd')) > 0:\n",
    "            node['node_refs'] = []\n",
    "            for nd in element.findall('nd'):\n",
    "                node['node_refs'].append(nd.attrib['ref'])\n",
    "\n",
    "        \n",
    "        return node\n",
    "    else:\n",
    "        return None\n",
    "\n",
    "    "
   ]
  },
  {
   "cell_type": "code",
   "execution_count": 120,
   "metadata": {},
   "outputs": [
    {
     "name": "stdout",
     "output_type": "stream",
     "text": [
      "1362\n",
      "987\n"
     ]
    }
   ],
   "source": [
    "#auditing functions\n",
    "\n",
    "def list_totals(usefile):\n",
    "    tagslist ={}\n",
    "    total = 0\n",
    "    for _, element in ET.iterparse(usefile):\n",
    "        total += 1\n",
    "        if element.tag not in tagslist:\n",
    "            tagslist[element.tag] = 1\n",
    "        else:\n",
    "            tagslist[element.tag] = tagslist[element.tag] + 1\n",
    "    print 'Counting all the tags: \\n'\n",
    "    print total, 'tags in total \\n'\n",
    "    pp(tagslist)\n",
    "\n",
    "def list_websites(usefile):\n",
    "    websites = []\n",
    "    for _, element in ET.iterparse(usefile):\n",
    "        if len(element.findall('tag')) > 0:\n",
    "            for tag in element.findall('tag'):\n",
    "                if tag.attrib['k'] == 'website':\n",
    "                    websites.append(tag.attrib['v'])\n",
    "    print 'List of websites'\n",
    "    pp(websites)\n",
    "    badurls = []\n",
    "    for w in websites:\n",
    "        if not w.startswith('http'):\n",
    "            badurls.append(w)\n",
    "    print \"\\nThese websites are not proper URL's\" \n",
    "    pp(badurls)\n",
    "    \n",
    "#def find_tiger(usefile):\n",
    "tiger_tags = 0\n",
    "total_ways = 0\n",
    "for _, element in ET.iterparse(usefile):\n",
    "    if element.tag == 'way':\n",
    "        total_ways += 1\n",
    "        if len(element.findall('tag')) > 0:\n",
    "            for tag in element.findall('tag'):\n",
    "                if tag.attrib['k'].startswith('tiger'):\n",
    "                    tiger_tags += 1\n",
    "            pass\n",
    "                \n",
    "print total_ways\n",
    "print tiger_tags\n",
    "                \n",
    "                    \n",
    "                \n",
    "\n",
    "        \n",
    "            \n"
   ]
  },
  {
   "cell_type": "code",
   "execution_count": 100,
   "metadata": {},
   "outputs": [],
   "source": [
    "# read data into elementtree objects\n",
    "# writes out json file\n",
    "\n",
    "\n",
    "\n",
    "data = []\n",
    "with codecs.open(outfile, \"w\") as fo:\n",
    "    for _, element in ET.iterparse(usefile):\n",
    "        piece = shape_element(element)\n",
    "        if piece != None:\n",
    "            data.append(piece)\n",
    "            fo.write(json.dumps(piece) + \"\\n\")\n",
    "\n",
    "#for x in data:\n",
    "#    if x['type'] == 'relation':\n",
    "#       pp(x)\n",
    "\n"
   ]
  },
  {
   "cell_type": "code",
   "execution_count": null,
   "metadata": {},
   "outputs": [],
   "source": []
  }
 ],
 "metadata": {
  "kernelspec": {
   "display_name": "Python 2",
   "language": "python",
   "name": "python2"
  },
  "language_info": {
   "codemirror_mode": {
    "name": "ipython",
    "version": 2
   },
   "file_extension": ".py",
   "mimetype": "text/x-python",
   "name": "python",
   "nbconvert_exporter": "python",
   "pygments_lexer": "ipython2",
   "version": "2.7.18"
  }
 },
 "nbformat": 4,
 "nbformat_minor": 2
}
